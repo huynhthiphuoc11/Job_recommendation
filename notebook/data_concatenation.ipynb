{
 "cells": [
  {
   "cell_type": "code",
   "execution_count": 31,
   "metadata": {
    "colab": {
     "base_uri": "https://localhost:8080/"
    },
    "executionInfo": {
     "elapsed": 409,
     "status": "ok",
     "timestamp": 1676812315676,
     "user": {
      "displayName": "Prikshit Sharma",
      "userId": "02603035510215936699"
     },
     "user_tz": -330
    },
    "id": "EMEo6UlcyhNW",
    "outputId": "b42b0a75-f0fa-4013-ac0f-9b8c1acb3870"
   },
   "outputs": [
    {
     "name": "stdout",
     "output_type": "stream",
     "text": [
      "[WinError 3] The system cannot find the path specified: '/content/drive/MyDrive/jobrecommender'\n",
      "c:\\Users\\Admin\\Downloads\\Job-Recomendation-main\\Job-Recomendation-main\\notebook\n"
     ]
    }
   ],
   "source": [
    "cd /content/drive/MyDrive/jobrecommender"
   ]
  },
  {
   "cell_type": "code",
   "execution_count": null,
   "metadata": {},
   "outputs": [],
   "source": []
  },
  {
   "cell_type": "code",
   "execution_count": 4,
   "metadata": {
    "colab": {
     "base_uri": "https://localhost:8080/"
    },
    "executionInfo": {
     "elapsed": 6150,
     "status": "ok",
     "timestamp": 1676812324175,
     "user": {
      "displayName": "Prikshit Sharma",
      "userId": "02603035510215936699"
     },
     "user_tz": -330
    },
    "id": "OoakBIT0yOX1",
    "outputId": "fb12ad01-de50-48a6-8024-9af6e80db2e8"
   },
   "outputs": [
    {
     "name": "stdout",
     "output_type": "stream",
     "text": [
      "Total data frame - 14\n"
     ]
    }
   ],
   "source": [
    "# importing the required modules\n",
    "import glob\n",
    "import pandas as pd\n",
    "  \n",
    "# specifying the path to csv files\n",
    "path = r\"C:\\Users\\ASUS\\OneDrive\\Máy tính\\dacn1\\Job_recommendation\\data\\scrapped_data\"\n",
    "# csv files in the path\n",
    "files = glob.glob(path + \"/*.csv\")\n",
    "  \n",
    "# defining an empty list to store \n",
    "# content\n",
    "data_frame = pd.DataFrame()\n",
    "content = []\n",
    "count=0\n",
    "# checking all the csv files in the \n",
    "# specified path\n",
    "for filename in files:\n",
    "    \n",
    "    # reading content of csv file\n",
    "    # content.append(filename)\n",
    "    df = pd.read_csv(filename, index_col=None)\n",
    "    content.append(df)\n",
    "    count=count+1\n",
    "  \n",
    "# converting content to data frame\n",
    "data_frame = pd.concat(content)\n",
    "print(\"Total data frame -\",count)"
   ]
  },
  {
   "cell_type": "code",
   "execution_count": 33,
   "metadata": {
    "executionInfo": {
     "elapsed": 426,
     "status": "ok",
     "timestamp": 1676812441171,
     "user": {
      "displayName": "Prikshit Sharma",
      "userId": "02603035510215936699"
     },
     "user_tz": -330
    },
    "id": "yD8qDXh8zkfw"
   },
   "outputs": [],
   "source": [
    "data_frame=data_frame.drop(['companyLogo','id','jobType','scrapedAt'],axis=1)"
   ]
  },
  {
   "cell_type": "code",
   "execution_count": 5,
   "metadata": {
    "colab": {
     "base_uri": "https://localhost:8080/"
    },
    "executionInfo": {
     "elapsed": 705,
     "status": "ok",
     "timestamp": 1676812363373,
     "user": {
      "displayName": "Prikshit Sharma",
      "userId": "02603035510215936699"
     },
     "user_tz": -330
    },
    "id": "HDfIJu7yzXKD",
    "outputId": "b8ef1e94-3c7c-4976-ec47-de1fec323aeb"
   },
   "outputs": [
    {
     "data": {
      "text/plain": [
       "Index(['Job Title', 'Job Description', 'Required Skills', 'Salary Range',\n",
       "       'Location', 'Company', 'Experience Level', 'Industry', 'Job Type',\n",
       "       'Date Posted', 'Min Salary', 'Max Salary', 'Month', 'Avg Salary',\n",
       "       'company', 'companyLogo', 'description', 'externalApplyLink', 'id',\n",
       "       'jobType', 'location', 'positionName', 'postedAt', 'rating',\n",
       "       'reviewsCount', 'salary', 'scrapedAt', 'url'],\n",
       "      dtype='object')"
      ]
     },
     "execution_count": 5,
     "metadata": {},
     "output_type": "execute_result"
    }
   ],
   "source": [
    "data_frame.columns"
   ]
  },
  {
   "cell_type": "code",
   "execution_count": 6,
   "metadata": {
    "colab": {
     "base_uri": "https://localhost:8080/"
    },
    "executionInfo": {
     "elapsed": 670,
     "status": "ok",
     "timestamp": 1676812590045,
     "user": {
      "displayName": "Prikshit Sharma",
      "userId": "02603035510215936699"
     },
     "user_tz": -330
    },
    "id": "BX6oYWiQ0X2I",
    "outputId": "fd0dd933-dc4e-420f-a8d4-7499e1c35160"
   },
   "outputs": [
    {
     "data": {
      "text/plain": [
       "Index(['Job Title', 'Job Description', 'Required Skills', 'Salary Range',\n",
       "       'Location', 'Company', 'Experience Level', 'Industry', 'Job Type',\n",
       "       'Date Posted', 'Min Salary', 'Max Salary', 'Month', 'Avg Salary',\n",
       "       'company', 'companyLogo', 'description', 'externalApplyLink', 'id',\n",
       "       'jobType', 'location', 'positionName', 'postedAt', 'rating',\n",
       "       'reviewsCount', 'salary', 'scrapedAt', 'url'],\n",
       "      dtype='object')"
      ]
     },
     "execution_count": 6,
     "metadata": {},
     "output_type": "execute_result"
    }
   ],
   "source": [
    "data_frame.columns"
   ]
  },
  {
   "cell_type": "code",
   "execution_count": 7,
   "metadata": {
    "executionInfo": {
     "elapsed": 416,
     "status": "ok",
     "timestamp": 1676812701813,
     "user": {
      "displayName": "Prikshit Sharma",
      "userId": "02603035510215936699"
     },
     "user_tz": -330
    },
    "id": "NHtTKn1A0VvQ"
   },
   "outputs": [],
   "source": [
    "# Ensure df is defined\n",
    "df = data_frame.reindex(columns=['company', 'positionName', 'description', 'salary', 'location', 'rating', 'reviewsCount', 'postedAt', 'externalApplyLink', 'url'])"
   ]
  },
  {
   "cell_type": "code",
   "execution_count": 8,
   "metadata": {
    "colab": {
     "base_uri": "https://localhost:8080/",
     "height": 884
    },
    "executionInfo": {
     "elapsed": 729,
     "status": "ok",
     "timestamp": 1676812749335,
     "user": {
      "displayName": "Prikshit Sharma",
      "userId": "02603035510215936699"
     },
     "user_tz": -330
    },
    "id": "fe12UXzQ0_GM",
    "outputId": "506821b0-34d6-487b-d5cb-c6486db87d3c"
   },
   "outputs": [
    {
     "data": {
      "text/html": [
       "<div>\n",
       "<style scoped>\n",
       "    .dataframe tbody tr th:only-of-type {\n",
       "        vertical-align: middle;\n",
       "    }\n",
       "\n",
       "    .dataframe tbody tr th {\n",
       "        vertical-align: top;\n",
       "    }\n",
       "\n",
       "    .dataframe thead th {\n",
       "        text-align: right;\n",
       "    }\n",
       "</style>\n",
       "<table border=\"1\" class=\"dataframe\">\n",
       "  <thead>\n",
       "    <tr style=\"text-align: right;\">\n",
       "      <th></th>\n",
       "      <th>company</th>\n",
       "      <th>positionName</th>\n",
       "      <th>description</th>\n",
       "      <th>salary</th>\n",
       "      <th>location</th>\n",
       "      <th>rating</th>\n",
       "      <th>reviewsCount</th>\n",
       "      <th>postedAt</th>\n",
       "      <th>externalApplyLink</th>\n",
       "      <th>url</th>\n",
       "    </tr>\n",
       "  </thead>\n",
       "  <tbody>\n",
       "    <tr>\n",
       "      <th>0</th>\n",
       "      <td>NaN</td>\n",
       "      <td>NaN</td>\n",
       "      <td>NaN</td>\n",
       "      <td>NaN</td>\n",
       "      <td>NaN</td>\n",
       "      <td>NaN</td>\n",
       "      <td>NaN</td>\n",
       "      <td>NaN</td>\n",
       "      <td>NaN</td>\n",
       "      <td>NaN</td>\n",
       "    </tr>\n",
       "    <tr>\n",
       "      <th>1</th>\n",
       "      <td>NaN</td>\n",
       "      <td>NaN</td>\n",
       "      <td>NaN</td>\n",
       "      <td>NaN</td>\n",
       "      <td>NaN</td>\n",
       "      <td>NaN</td>\n",
       "      <td>NaN</td>\n",
       "      <td>NaN</td>\n",
       "      <td>NaN</td>\n",
       "      <td>NaN</td>\n",
       "    </tr>\n",
       "    <tr>\n",
       "      <th>2</th>\n",
       "      <td>NaN</td>\n",
       "      <td>NaN</td>\n",
       "      <td>NaN</td>\n",
       "      <td>NaN</td>\n",
       "      <td>NaN</td>\n",
       "      <td>NaN</td>\n",
       "      <td>NaN</td>\n",
       "      <td>NaN</td>\n",
       "      <td>NaN</td>\n",
       "      <td>NaN</td>\n",
       "    </tr>\n",
       "    <tr>\n",
       "      <th>3</th>\n",
       "      <td>NaN</td>\n",
       "      <td>NaN</td>\n",
       "      <td>NaN</td>\n",
       "      <td>NaN</td>\n",
       "      <td>NaN</td>\n",
       "      <td>NaN</td>\n",
       "      <td>NaN</td>\n",
       "      <td>NaN</td>\n",
       "      <td>NaN</td>\n",
       "      <td>NaN</td>\n",
       "    </tr>\n",
       "    <tr>\n",
       "      <th>4</th>\n",
       "      <td>NaN</td>\n",
       "      <td>NaN</td>\n",
       "      <td>NaN</td>\n",
       "      <td>NaN</td>\n",
       "      <td>NaN</td>\n",
       "      <td>NaN</td>\n",
       "      <td>NaN</td>\n",
       "      <td>NaN</td>\n",
       "      <td>NaN</td>\n",
       "      <td>NaN</td>\n",
       "    </tr>\n",
       "    <tr>\n",
       "      <th>...</th>\n",
       "      <td>...</td>\n",
       "      <td>...</td>\n",
       "      <td>...</td>\n",
       "      <td>...</td>\n",
       "      <td>...</td>\n",
       "      <td>...</td>\n",
       "      <td>...</td>\n",
       "      <td>...</td>\n",
       "      <td>...</td>\n",
       "      <td>...</td>\n",
       "    </tr>\n",
       "    <tr>\n",
       "      <th>5</th>\n",
       "      <td>NaN</td>\n",
       "      <td>NaN</td>\n",
       "      <td>NaN</td>\n",
       "      <td>NaN</td>\n",
       "      <td>NaN</td>\n",
       "      <td>NaN</td>\n",
       "      <td>NaN</td>\n",
       "      <td>NaN</td>\n",
       "      <td>NaN</td>\n",
       "      <td>NaN</td>\n",
       "    </tr>\n",
       "    <tr>\n",
       "      <th>6</th>\n",
       "      <td>NaN</td>\n",
       "      <td>NaN</td>\n",
       "      <td>NaN</td>\n",
       "      <td>NaN</td>\n",
       "      <td>NaN</td>\n",
       "      <td>NaN</td>\n",
       "      <td>NaN</td>\n",
       "      <td>NaN</td>\n",
       "      <td>NaN</td>\n",
       "      <td>NaN</td>\n",
       "    </tr>\n",
       "    <tr>\n",
       "      <th>7</th>\n",
       "      <td>NaN</td>\n",
       "      <td>NaN</td>\n",
       "      <td>NaN</td>\n",
       "      <td>NaN</td>\n",
       "      <td>NaN</td>\n",
       "      <td>NaN</td>\n",
       "      <td>NaN</td>\n",
       "      <td>NaN</td>\n",
       "      <td>NaN</td>\n",
       "      <td>NaN</td>\n",
       "    </tr>\n",
       "    <tr>\n",
       "      <th>8</th>\n",
       "      <td>NaN</td>\n",
       "      <td>NaN</td>\n",
       "      <td>NaN</td>\n",
       "      <td>NaN</td>\n",
       "      <td>NaN</td>\n",
       "      <td>NaN</td>\n",
       "      <td>NaN</td>\n",
       "      <td>NaN</td>\n",
       "      <td>NaN</td>\n",
       "      <td>NaN</td>\n",
       "    </tr>\n",
       "    <tr>\n",
       "      <th>9</th>\n",
       "      <td>NaN</td>\n",
       "      <td>NaN</td>\n",
       "      <td>NaN</td>\n",
       "      <td>NaN</td>\n",
       "      <td>NaN</td>\n",
       "      <td>NaN</td>\n",
       "      <td>NaN</td>\n",
       "      <td>NaN</td>\n",
       "      <td>NaN</td>\n",
       "      <td>NaN</td>\n",
       "    </tr>\n",
       "  </tbody>\n",
       "</table>\n",
       "<p>35542 rows × 10 columns</p>\n",
       "</div>"
      ],
      "text/plain": [
       "   company positionName description salary location  rating  reviewsCount  \\\n",
       "0      NaN          NaN         NaN    NaN      NaN     NaN           NaN   \n",
       "1      NaN          NaN         NaN    NaN      NaN     NaN           NaN   \n",
       "2      NaN          NaN         NaN    NaN      NaN     NaN           NaN   \n",
       "3      NaN          NaN         NaN    NaN      NaN     NaN           NaN   \n",
       "4      NaN          NaN         NaN    NaN      NaN     NaN           NaN   \n",
       "..     ...          ...         ...    ...      ...     ...           ...   \n",
       "5      NaN          NaN         NaN    NaN      NaN     NaN           NaN   \n",
       "6      NaN          NaN         NaN    NaN      NaN     NaN           NaN   \n",
       "7      NaN          NaN         NaN    NaN      NaN     NaN           NaN   \n",
       "8      NaN          NaN         NaN    NaN      NaN     NaN           NaN   \n",
       "9      NaN          NaN         NaN    NaN      NaN     NaN           NaN   \n",
       "\n",
       "   postedAt externalApplyLink  url  \n",
       "0       NaN               NaN  NaN  \n",
       "1       NaN               NaN  NaN  \n",
       "2       NaN               NaN  NaN  \n",
       "3       NaN               NaN  NaN  \n",
       "4       NaN               NaN  NaN  \n",
       "..      ...               ...  ...  \n",
       "5       NaN               NaN  NaN  \n",
       "6       NaN               NaN  NaN  \n",
       "7       NaN               NaN  NaN  \n",
       "8       NaN               NaN  NaN  \n",
       "9       NaN               NaN  NaN  \n",
       "\n",
       "[35542 rows x 10 columns]"
      ]
     },
     "execution_count": 8,
     "metadata": {},
     "output_type": "execute_result"
    }
   ],
   "source": [
    "df"
   ]
  },
  {
   "cell_type": "code",
   "execution_count": 9,
   "metadata": {
    "executionInfo": {
     "elapsed": 702,
     "status": "ok",
     "timestamp": 1676812787576,
     "user": {
      "displayName": "Prikshit Sharma",
      "userId": "02603035510215936699"
     },
     "user_tz": -330
    },
    "id": "hkvidpYzzbE8"
   },
   "outputs": [],
   "source": [
    "df.to_csv(\"data.csv\",index=False)"
   ]
  },
  {
   "cell_type": "code",
   "execution_count": 10,
   "metadata": {
    "id": "gK02L-vD1Jm1"
   },
   "outputs": [
    {
     "name": "stdout",
     "output_type": "stream",
     "text": [
      "Đã đọc thành công file all_locations.csv. Số lượng location: 10\n"
     ]
    }
   ],
   "source": [
    "import pandas as pd\n",
    "\n",
    "# Đọc file all_locations.csv\n",
    "try:\n",
    "    all_locations_df = pd.read_csv(r\"C:\\Users\\ASUS\\OneDrive\\Máy tính\\dacn1\\Job_recommendation\\data\\scrapped_data\\vietnam_it_job_locations.csv\")\n",
    "    print(f\"Đã đọc thành công file all_locations.csv. Số lượng location: {len(all_locations_df)}\")\n",
    "except FileNotFoundError:\n",
    "    print(\"Không tìm thấy file all_locations.csv. Vui lòng kiểm tra lại đường dẫn hoặc tên file.\")\n",
    "    raise\n",
    "except Exception as e:\n",
    "    print(f\"Có lỗi khi đọc file CSV: {str(e)}\")\n",
    "    raise"
   ]
  },
  {
   "cell_type": "code",
   "execution_count": 11,
   "metadata": {},
   "outputs": [
    {
     "name": "stdout",
     "output_type": "stream",
     "text": [
      "Dữ liệu sẽ được thêm vào MongoDB: [{'Location': 'Remote'}, {'Location': 'Hanoi'}, {'Location': 'Ho Chi Minh City'}, {'Location': 'Da Nang'}, {'Location': 'Can Tho'}]\n"
     ]
    }
   ],
   "source": [
    "# Chuyển dữ liệu thành danh sách các dictionary\n",
    "locations_to_insert = all_locations_df[[\"Location\"]].dropna().to_dict(\"records\")\n",
    "\n",
    "# Kiểm tra dữ liệu\n",
    "print(f\"Dữ liệu sẽ được thêm vào MongoDB: {locations_to_insert[:5]}\")  # In 5 document đầu tiên để kiểm tra"
   ]
  },
  {
   "cell_type": "code",
   "execution_count": 12,
   "metadata": {},
   "outputs": [
    {
     "name": "stdout",
     "output_type": "stream",
     "text": [
      "Đã xóa dữ liệu cũ trong all_locations_Data.\n",
      "Đã thêm 10 location vào all_locations_Data.\n"
     ]
    }
   ],
   "source": [
    "import pymongo\n",
    "\n",
    "# Kết nối đến MongoDB\n",
    "try:\n",
    "    client = pymongo.MongoClient(\"mongodb://localhost:27017/\")  # Điều chỉnh connection string nếu cần\n",
    "    db = client[\"Job-Recomendation\"]  # Tên database\n",
    "    collection = db[\"all_locations_Data\"]  # Tên collection\n",
    "\n",
    "    # Xóa dữ liệu cũ trong collection (tùy chọn, nếu bạn muốn làm mới dữ liệu)\n",
    "    collection.drop()\n",
    "    print(\"Đã xóa dữ liệu cũ trong all_locations_Data.\")\n",
    "\n",
    "    # Thêm dữ liệu mới vào collection\n",
    "    if locations_to_insert:\n",
    "        collection.insert_many(locations_to_insert)\n",
    "        print(f\"Đã thêm {len(locations_to_insert)} location vào all_locations_Data.\")\n",
    "    else:\n",
    "        print(\"Không có dữ liệu để thêm vào MongoDB.\")\n",
    "except Exception as e:\n",
    "    print(f\"Có lỗi khi thêm dữ liệu vào MongoDB: {str(e)}\")\n",
    "    raise"
   ]
  },
  {
   "cell_type": "code",
   "execution_count": 13,
   "metadata": {},
   "outputs": [
    {
     "name": "stdout",
     "output_type": "stream",
     "text": [
      "Đã đọc 20020 bản ghi từ file CSV.\n",
      "Đã xóa dữ liệu cũ trong preprocessed_jobs_Data.\n",
      "Đã thêm 20020 bản ghi vào preprocessed_jobs_Data.\n"
     ]
    }
   ],
   "source": [
    "import pandas as pd\n",
    "from pymongo import MongoClient\n",
    "\n",
    "# Đường dẫn tới file CSV\n",
    "file_path = r\"C:\\Users\\ASUS\\OneDrive\\Máy tính\\dacn1\\Job_recommendation\\notebook\\final_job.csv\"\n",
    "\n",
    "try:\n",
    "    # Đọc dữ liệu từ file CSV\n",
    "    df = pd.read_csv(file_path)\n",
    "    print(f\"Đã đọc {len(df)} bản ghi từ file CSV.\")\n",
    "\n",
    "    # Chuyển đổi DataFrame thành danh sách các dictionary\n",
    "    data = df.to_dict(orient='records')\n",
    "\n",
    "    # Kết nối tới MongoDB\n",
    "    client = MongoClient('mongodb://localhost:27017/')  # Thay đổi URL nếu cần\n",
    "    db = client[\"Job-Recomendation\"]  # Tên database\n",
    "    collection = db['preprocessed_jobs_Data']  # Tên collection\n",
    "\n",
    "    # Xóa dữ liệu cũ trong collection (tùy chọn, nếu bạn muốn làm mới dữ liệu)\n",
    "    collection.drop()\n",
    "    print(\"Đã xóa dữ liệu cũ trong preprocessed_jobs_Data.\")\n",
    "\n",
    "    # Chèn dữ liệu mới vào collection\n",
    "    if data:  # Kiểm tra xem data có rỗng hay không\n",
    "        collection.insert_many(data)\n",
    "        print(f\"Đã thêm {len(data)} bản ghi vào preprocessed_jobs_Data.\")\n",
    "    else:\n",
    "        print(\"Không có dữ liệu để thêm vào MongoDB.\")\n",
    "\n",
    "except Exception as e:\n",
    "    print(f\"Có lỗi xảy ra: {str(e)}\")\n",
    "    raise"
   ]
  },
  {
   "cell_type": "code",
   "execution_count": 14,
   "metadata": {},
   "outputs": [
    {
     "name": "stdout",
     "output_type": "stream",
     "text": [
      "[{'Job Title': 'Software Engineer', 'Job Description': \"Design cloud-based solutions using JSP and HTML for FPT Software's data pipelines to ensure scalability.\", 'Required Skills': 'JSP, HTML, Java', 'Salary Range': '35M VND/month - 41M VND/month', 'Location': 'Hanoi', 'Company': 'FPT Software', 'Experience Level': 'Mid-Level', 'Industry': 'Mobile Development', 'Job Type': 'Part-Time', 'Date Posted': '14/8/2019', 'externalApplyLink': 'https://careers.fptsoftware.com/', 'url': 'https://www.vietnamworks.com/viec-lam/software-engineer-fpt-software-3695871', 'JobID': 0, 'Job Description\\t': 0, 'All': \"Software Engineer,Design cloud-based solutions using JSP and HTML for FPT Software's data pipelines to ensure scalability.,JSP, HTML, Java,35M VND/month - 41M VND/month,Hanoi,FPT Software,Mid-Level,Mobile Development,Part-Time,14/8/2019,https://careers.fptsoftware.com/,https://www.vietnamworks.com/viec-lam/software-engineer-fpt-software-3695871,0,0\", '_id': ObjectId('67f7764e4fb55d15bb672b20')}, {'Job Title': 'Database Administrator', 'Job Description': \"Enhance web applications using Python and C# for Shopee Vietnam's blockchain protocols to enable real-time processing.\", 'Required Skills': 'C#, Python', 'Salary Range': '39M VND/month - 45M VND/month', 'Location': 'Hanoi', 'Company': 'Shopee Vietnam', 'Experience Level': 'Mid-Level', 'Industry': 'Software Development', 'Job Type': 'Full-Time', 'Date Posted': '21/6/2019', 'externalApplyLink': 'https://careers.shopee.vn/', 'url': 'https://www.vietnamworks.com/viec-lam/java-web-developer-tai-ha-noi-1612345-en', 'JobID': 1, 'Job Description\\t': 1, 'All': \"Database Administrator,Enhance web applications using Python and C# for Shopee Vietnam's blockchain protocols to enable real-time processing.,C#, Python,39M VND/month - 45M VND/month,Hanoi,Shopee Vietnam,Mid-Level,Software Development,Full-Time,21/6/2019,https://careers.shopee.vn/,https://www.vietnamworks.com/viec-lam/java-web-developer-tai-ha-noi-1612345-en,1,1\", '_id': ObjectId('67f7764e4fb55d15bb672b21')}, {'Job Title': 'Network Engineer', 'Job Description': \"Architect real-time data platforms using PHP and Java for CMC Global's databases to optimize workflows.\", 'Required Skills': 'PHP, Java', 'Salary Range': '28M VND/month - 36M VND/month', 'Location': 'Ho Chi Minh City', 'Company': 'CMC Global', 'Experience Level': 'Entry-Level', 'Industry': 'Software Development', 'Job Type': 'Full-Time', 'Date Posted': '29/5/2019', 'externalApplyLink': 'https://cmcglobal.com.vn/career/', 'url': 'https://itviec.com/viec-lam-it/network-engineer-cmc-global-3912', 'JobID': 2, 'Job Description\\t': 2, 'All': \"Network Engineer,Architect real-time data platforms using PHP and Java for CMC Global's databases to optimize workflows.,PHP, Java,28M VND/month - 36M VND/month,Ho Chi Minh City,CMC Global,Entry-Level,Software Development,Full-Time,29/5/2019,https://cmcglobal.com.vn/career/,https://itviec.com/viec-lam-it/network-engineer-cmc-global-3912,2,2\", '_id': ObjectId('67f7764e4fb55d15bb672b22')}, {'Job Title': 'Software Engineer', 'Job Description': \"Enhance cloud-based solutions using CSS and C# for Axon Active's cloud infrastructure to support business growth.\", 'Required Skills': 'C#, CSS, JSP', 'Salary Range': '53M VND/month - 64M VND/month', 'Location': 'Remote', 'Company': 'Axon Active', 'Experience Level': 'Senior-Level', 'Industry': 'Cybersecurity', 'Job Type': 'Part-Time', 'Date Posted': '26/3/2019', 'externalApplyLink': 'https://www.axonactive.com/careers/', 'url': 'https://www.vietnamworks.com/viec-lam/full-stack-developer-tai-tp-hcm-1623456-en', 'JobID': 3, 'Job Description\\t': 3, 'All': \"Software Engineer,Enhance cloud-based solutions using CSS and C# for Axon Active's cloud infrastructure to support business growth.,C#, CSS, JSP,53M VND/month - 64M VND/month,Remote,Axon Active,Senior-Level,Cybersecurity,Part-Time,26/3/2019,https://www.axonactive.com/careers/,https://www.vietnamworks.com/viec-lam/full-stack-developer-tai-tp-hcm-1623456-en,3,3\", '_id': ObjectId('67f7764e4fb55d15bb672b23')}, {'Job Title': 'Database Administrator', 'Job Description': \"Enhance mobile-first interfaces using JSP and C# for VinAI's APIs to optimize workflows.\", 'Required Skills': 'C#, HTML, Spring, JSP', 'Salary Range': '56M VND/month - 70M VND/month', 'Location': 'Hanoi', 'Company': 'VinAI', 'Experience Level': 'Senior-Level', 'Industry': 'Web Development', 'Job Type': 'Full-Time', 'Date Posted': '26/3/2019', 'externalApplyLink': 'https://vinai.io/careers/', 'url': 'https://topdev.vn/viec-lam/database-administrator-vinai-tai-da-nang-8161017', 'JobID': 4, 'Job Description\\t': 4, 'All': \"Database Administrator,Enhance mobile-first interfaces using JSP and C# for VinAI's APIs to optimize workflows.,C#, HTML, Spring, JSP,56M VND/month - 70M VND/month,Hanoi,VinAI,Senior-Level,Web Development,Full-Time,26/3/2019,https://vinai.io/careers/,https://topdev.vn/viec-lam/database-administrator-vinai-tai-da-nang-8161017,4,4\", '_id': ObjectId('67f7764e4fb55d15bb672b24')}]\n"
     ]
    }
   ],
   "source": [
    "print(data[:5])  # In 5 bản ghi đầu tiên"
   ]
  },
  {
   "cell_type": "code",
   "execution_count": 15,
   "metadata": {},
   "outputs": [
    {
     "name": "stdout",
     "output_type": "stream",
     "text": [
      "Đã đọc 19 bản ghi từ file CSV.\n",
      "Đã thêm 19 bản ghi vào Resume_Data.\n"
     ]
    }
   ],
   "source": [
    "import pandas as pd\n",
    "from pymongo import MongoClient\n",
    "\n",
    "# Đường dẫn tới file CSV\n",
    "file_path = r\"C:\\Users\\ASUS\\OneDrive\\Máy tính\\dacn1\\Job_recommendation\\data\\concatenated_data\\updated_cv.csv\"\n",
    "\n",
    "try:\n",
    "    # Đọc dữ liệu từ file CSV\n",
    "    df = pd.read_csv(file_path)\n",
    "    print(f\"Đã đọc {len(df)} bản ghi từ file CSV.\")\n",
    "\n",
    "    # Chuyển đổi DataFrame thành danh sách các dictionary\n",
    "    data = df.to_dict(orient='records')\n",
    "\n",
    "    # Kết nối tới MongoDB\n",
    "    client = MongoClient('mongodb://localhost:27017/')  # Thay đổi URL nếu cần\n",
    "    db = client[\"Job-Recomendation\"]  # Tên database\n",
    "    collection = db['Resume_Data']  # Tên collection\n",
    "\n",
    "    \n",
    "\n",
    "    # Chèn dữ liệu mới vào collection\n",
    "    if data:  # Kiểm tra xem data có rỗng hay không\n",
    "        collection.insert_many(data)\n",
    "        print(f\"Đã thêm {len(data)} bản ghi vào Resume_Data.\")\n",
    "    else:\n",
    "        print(\"Không có dữ liệu để thêm vào MongoDB.\")\n",
    "\n",
    "except Exception as e:\n",
    "    print(f\"Có lỗi xảy ra: {str(e)}\")\n",
    "    raise"
   ]
  },
  {
   "cell_type": "code",
   "execution_count": 16,
   "metadata": {},
   "outputs": [],
   "source": [
    "from pymongo import MongoClient\n",
    "dataBase = \"Job-Recomendation\"\n",
    "collection1 = \"preprocessed_jobs_Data\"\n",
    "collection2 = \"Resume_from_CANDIDATE\"\n",
    "collection3 = \"all_locations_Data\"\n",
    "\n",
    "client = MongoClient('mongodb://localhost:27017/')\n",
    "db = client[dataBase]\n",
    "collection = db[collection1]\n",
    "\n",
    "# Tìm và xóa các bản ghi trùng lặp dựa trên 'Job Description'\n",
    "pipeline = [\n",
    "    {\"$group\": {\"_id\": \"$Job Description\", \"uniqueIds\": {\"$addToSet\": \"$_id\"}, \"count\": {\"$sum\": 1}}},\n",
    "    {\"$match\": {\"count\": {\"$gt\": 1}}}\n",
    "]\n",
    "duplicates = collection.aggregate(pipeline)\n",
    "\n",
    "for doc in duplicates:\n",
    "    ids = doc['uniqueIds'][1:]  # Giữ lại bản ghi đầu tiên, xóa các bản sao\n",
    "    collection.delete_many({\"_id\": {\"$in\": ids}})"
   ]
  },
  {
   "cell_type": "code",
   "execution_count": null,
   "metadata": {},
   "outputs": [],
   "source": []
  }
 ],
 "metadata": {
  "colab": {
   "authorship_tag": "ABX9TyMAp8jGL0Pj63TDzEhPvz6a",
   "mount_file_id": "13qJxxkXjhPwbpSxPZQ6kw49p7e9IWilj",
   "provenance": []
  },
  "kernelspec": {
   "display_name": "dacn1",
   "language": "python",
   "name": "python3"
  },
  "language_info": {
   "codemirror_mode": {
    "name": "ipython",
    "version": 3
   },
   "file_extension": ".py",
   "mimetype": "text/x-python",
   "name": "python",
   "nbconvert_exporter": "python",
   "pygments_lexer": "ipython3",
   "version": "3.8.20"
  }
 },
 "nbformat": 4,
 "nbformat_minor": 0
}
