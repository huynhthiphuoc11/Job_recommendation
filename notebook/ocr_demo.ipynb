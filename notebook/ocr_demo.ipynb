{
 "cells": [
  {
   "cell_type": "code",
   "execution_count": 1,
   "metadata": {},
   "outputs": [
    {
     "name": "stderr",
     "output_type": "stream",
     "text": [
      "  WARNING: Failed to remove contents in a temporary directory 'C:\\Users\\Admin\\anaconda3\\envs\\talenthive\\Lib\\site-packages\\~il'.\n",
      "  You can safely remove it manually.\n",
      "ERROR: pip's dependency resolver does not currently take into account all the packages that are installed. This behaviour is the source of the following dependency conflicts.\n",
      "jobrecommendation 0.0.2 requires Pillow==9.4.0, but you have pillow 10.4.0 which is incompatible.\n"
     ]
    }
   ],
   "source": [
    "!pip install ocrmypdf -q"
   ]
  },
  {
   "cell_type": "code",
   "execution_count": 2,
   "metadata": {},
   "outputs": [],
   "source": [
    "!pip install pdfplumber -q"
   ]
  },
  {
   "cell_type": "code",
   "execution_count": 3,
   "metadata": {},
   "outputs": [],
   "source": [
    "import os\n",
    "\n",
    "import requests\n",
    "import pdfplumber"
   ]
  },
  {
   "cell_type": "code",
   "execution_count": 4,
   "metadata": {},
   "outputs": [
    {
     "data": {
      "text/plain": [
       "'cv\\\\CV Thuy Duong (Việt)1743071666667.pdf'"
      ]
     },
     "execution_count": 4,
     "metadata": {},
     "output_type": "execute_result"
    }
   ],
   "source": [
    "invoice_pdf = 'cv\\CV Thuy Duong (Việt)1743071666667.pdf'\n",
    "invoice_pdf"
   ]
  },
  {
   "cell_type": "code",
   "execution_count": 5,
   "metadata": {},
   "outputs": [
    {
     "name": "stdout",
     "output_type": "stream",
     "text": [
      "Lê Thùy Dương\n",
      "Nhân viên văn phòng\n",
      "Ngày sinh: 29/11/1999\n",
      "Giới tính: Nữ\n",
      "Số điện thoại: 0707292696\n",
      "Email: ltduong2911@gmail.com\n",
      "Website: https://www.facebook.com/pro\u0000le.php?id=100007457820991\n",
      "Địa chỉ: Lô F8 Đức Bưu 6, Hương Sơ, Huế\n",
      "MỤC TIÊU NGHỀ NGHIỆP\n",
      "Áp dụng tất cả những kinh nghiệm, sự hiểu biết của bản thân để hoàn thành tốt công việc được giao và trở thành nhân viên tốt\n",
      "cho quý công ty. Em sẽ luôn có trách nhiệm, trung thực, nghiêm túc, làm việc đúng giờ, chăm chỉ trong công việc. Mặc dù chưa có\n",
      "nhiều kinh nghiệm trong lĩnh vực này nhưng em vẫn mong muốn thử sức và trải nghiệm để có thêm nhiều kinh nghiệm cho bản\n",
      "thân.\n",
      "HỌC VẤN\n",
      "09/2014 - 07/2017 Trường THPT Nguyễn Huệ, Huế\n",
      "Tốt nghiệp loại Khá\n",
      "09/2017 - 07/2021 Đại học Ngoại ngữ Huế\n",
      "Ngôn ngữ Nhật\n",
      "Tốt nghiệp loại Khá\n",
      "KINH NGHIỆM LÀM VIỆC\n",
      "07/2020 - 08/2020 Công ty du lịch Phong Lan\n",
      "Thực tập\n",
      "09/2021 - 12/2021 Công ty MATHPRESSO\n",
      "Nhập dữ liệu tiếng Nhật partime online\n",
      "04/2022 - vẫn còn làm việc Công ty TNHH Rainscales Việt Nam\n",
      "Kiểm tra thông tin khách hàng Nhật\n",
      "CHỨNG CHỈ - BẰNG CẤP\n",
      "01/2021 Bằng năng lực Tiếng Anh B1\n",
      "03/2021 Bằng năng lực Tiếng Nhật B2\n",
      "Lê Thùy Dương\n",
      "Nhân viên văn phòng\n",
      "Ngày sinh: 29/11/1999\n",
      "Giới tính: Nữ\n",
      "Số điện thoại: 0707292696\n",
      "Email: ltduong2911@gmail.com\n",
      "Website: https://www.facebook.com/pro\u0000le.php?id=100007457820991\n",
      "Địa chỉ: Lô F8 Đức Bưu 6, Hương Sơ, Huế\n",
      "MỤC TIÊU NGHỀ NGHIỆP\n",
      "Áp dụng tất cả những kinh nghiệm, sự hiểu biết của bản thân để hoàn thành tốt công việc được giao và trở thành nhân viên tốt\n",
      "cho quý công ty. Em sẽ luôn có trách nhiệm, trung thực, nghiêm túc, làm việc đúng giờ, chăm chỉ trong công việc. Mặc dù chưa có\n",
      "nhiều kinh nghiệm trong lĩnh vực này nhưng em vẫn mong muốn thử sức và trải nghiệm để có thêm nhiều kinh nghiệm cho bản\n",
      "thân.\n",
      "HỌC VẤN\n",
      "09/2014 - 07/2017 Trường THPT Nguyễn Huệ, Huế\n",
      "Tốt nghiệp loại Khá\n",
      "09/2017 - 07/2021 Đại học Ngoại ngữ Huế\n",
      "Ngôn ngữ Nhật\n",
      "Tốt nghiệp loại Khá\n",
      "KINH NGHIỆM LÀM VIỆC\n",
      "07/2020 - 08/2020 Công ty du lịch Phong Lan\n",
      "Thực tập\n",
      "09/2021 - 12/2021 Công ty MATHPRESSO\n",
      "Nhập dữ liệu tiếng Nhật partime online\n",
      "04/2022 - vẫn còn làm việc Công ty TNHH Rainscales Việt Nam\n",
      "Kiểm tra thông tin khách hàng Nhật\n",
      "CHỨNG CHỈ - BẰNG CẤP\n",
      "01/2021 Bằng năng lực Tiếng Anh B1\n",
      "03/2021 Bằng năng lực Tiếng Nhật B2CÁC KỸ NĂNG\n",
      "Tin học văn phòng Có kỹ năng cơ bản về Word, Excel, Power Point,...\n",
      "Ngôn ngữ Khả năng giao tiếp Tiếng Anh cơ bản hàng ngày\n",
      "SỞ THÍCH\n",
      "Du lịch, đọc sách, nghe nhạc\n",
      "© topcv.vn\n"
     ]
    }
   ],
   "source": [
    "with pdfplumber.open(invoice_pdf) as pdf:\n",
    "     text=\"\"\n",
    "     pages = pdf.pages\n",
    "     for page in pages:\n",
    "         text += page.extract_text(x_tolerance=2)\n",
    "         print(text)"
   ]
  },
  {
   "cell_type": "code",
   "execution_count": 6,
   "metadata": {},
   "outputs": [
    {
     "name": "stdout",
     "output_type": "stream",
     "text": [
      "Lê Thùy Dương\n",
      "Nhân viên văn phòng\n",
      "Ngày sinh: 29/11/1999\n",
      "Giới tính: Nữ\n",
      "Số điện thoại: 0707292696\n",
      "Email: ltduong2911@gmail.com\n",
      "Website: https://www.facebook.com/pro\u0000le.php?id=100007457820991\n",
      "Địa chỉ: Lô F8 Đức Bưu 6, Hương Sơ, Huế\n",
      "MỤC TIÊU NGHỀ NGHIỆP\n",
      "Áp dụng tất cả những kinh nghiệm, sự hiểu biết của bản thân để hoàn thành tốt công việc được giao và trở thành nhân viên tốt\n",
      "cho quý công ty. Em sẽ luôn có trách nhiệm, trung thực, nghiêm túc, làm việc đúng giờ, chăm chỉ trong công việc. Mặc dù chưa có\n",
      "nhiều kinh nghiệm trong lĩnh vực này nhưng em vẫn mong muốn thử sức và trải nghiệm để có thêm nhiều kinh nghiệm cho bản\n",
      "thân.\n",
      "HỌC VẤN\n",
      "09/2014 - 07/2017 Trường THPT Nguyễn Huệ, Huế\n",
      "Tốt nghiệp loại Khá\n",
      "09/2017 - 07/2021 Đại học Ngoại ngữ Huế\n",
      "Ngôn ngữ Nhật\n",
      "Tốt nghiệp loại Khá\n",
      "KINH NGHIỆM LÀM VIỆC\n",
      "07/2020 - 08/2020 Công ty du lịch Phong Lan\n",
      "Thực tập\n",
      "09/2021 - 12/2021 Công ty MATHPRESSO\n",
      "Nhập dữ liệu tiếng Nhật partime online\n",
      "04/2022 - vẫn còn làm việc Công ty TNHH Rainscales Việt Nam\n",
      "Kiểm tra thông tin khách hàng Nhật\n",
      "CHỨNG CHỈ - BẰNG CẤP\n",
      "01/2021 Bằng năng lực Tiếng Anh B1\n",
      "03/2021 Bằng năng lực Tiếng Nhật B2CÁC KỸ NĂNG\n",
      "Tin học văn phòng Có kỹ năng cơ bản về Word, Excel, Power Point,...\n",
      "Ngôn ngữ Khả năng giao tiếp Tiếng Anh cơ bản hàng ngày\n",
      "SỞ THÍCH\n",
      "Du lịch, đọc sách, nghe nhạc\n",
      "© topcv.vnLê Thùy Dương\n",
      "Nhân viên văn phòng\n",
      "Ngày sinh: 29/11/1999\n",
      "Giới tính: Nữ\n",
      "Số điện thoại: 0707292696\n",
      "Email: ltduong2911@gmail.com\n",
      "Website: https://www.facebook.com/pro\u0000le.php?id=100007457820991\n",
      "Địa chỉ: Lô F8 Đức Bưu 6, Hương Sơ, Huế\n",
      "MỤC TIÊU NGHỀ NGHIỆP\n",
      "Áp dụng tất cả những kinh nghiệm, sự hiểu biết của bản thân để hoàn thành tốt công việc được giao và trở thành nhân viên tốt\n",
      "cho quý công ty. Em sẽ luôn có trách nhiệm, trung thực, nghiêm túc, làm việc đúng giờ, chăm chỉ trong công việc. Mặc dù chưa có\n",
      "nhiều kinh nghiệm trong lĩnh vực này nhưng em vẫn mong muốn thử sức và trải nghiệm để có thêm nhiều kinh nghiệm cho bản\n",
      "thân.\n",
      "HỌC VẤN\n",
      "09/2014 - 07/2017 Trường THPT Nguyễn Huệ, Huế\n",
      "Tốt nghiệp loại Khá\n",
      "09/2017 - 07/2021 Đại học Ngoại ngữ Huế\n",
      "Ngôn ngữ Nhật\n",
      "Tốt nghiệp loại Khá\n",
      "KINH NGHIỆM LÀM VIỆC\n",
      "07/2020 - 08/2020 Công ty du lịch Phong Lan\n",
      "Thực tập\n",
      "09/2021 - 12/2021 Công ty MATHPRESSO\n",
      "Nhập dữ liệu tiếng Nhật partime online\n",
      "04/2022 - vẫn còn làm việc Công ty TNHH Rainscales Việt Nam\n",
      "Kiểm tra thông tin khách hàng Nhật\n",
      "CHỨNG CHỈ - BẰNG CẤP\n",
      "01/2021 Bằng năng lực Tiếng Anh B1\n",
      "03/2021 Bằng năng lực Tiếng Nhật B2\n",
      "Lê Thùy Dương\n",
      "Nhân viên văn phòng\n",
      "Ngày sinh: 29/11/1999\n",
      "Giới tính: Nữ\n",
      "Số điện thoại: 0707292696\n",
      "Email: ltduong2911@gmail.com\n",
      "Website: https://www.facebook.com/pro\u0000le.php?id=100007457820991\n",
      "Địa chỉ: Lô F8 Đức Bưu 6, Hương Sơ, Huế\n",
      "MỤC TIÊU NGHỀ NGHIỆP\n",
      "Áp dụng tất cả những kinh nghiệm, sự hiểu biết của bản thân để hoàn thành tốt công việc được giao và trở thành nhân viên tốt\n",
      "cho quý công ty. Em sẽ luôn có trách nhiệm, trung thực, nghiêm túc, làm việc đúng giờ, chăm chỉ trong công việc. Mặc dù chưa có\n",
      "nhiều kinh nghiệm trong lĩnh vực này nhưng em vẫn mong muốn thử sức và trải nghiệm để có thêm nhiều kinh nghiệm cho bản\n",
      "thân.\n",
      "HỌC VẤN\n",
      "09/2014 - 07/2017 Trường THPT Nguyễn Huệ, Huế\n",
      "Tốt nghiệp loại Khá\n",
      "09/2017 - 07/2021 Đại học Ngoại ngữ Huế\n",
      "Ngôn ngữ Nhật\n",
      "Tốt nghiệp loại Khá\n",
      "KINH NGHIỆM LÀM VIỆC\n",
      "07/2020 - 08/2020 Công ty du lịch Phong Lan\n",
      "Thực tập\n",
      "09/2021 - 12/2021 Công ty MATHPRESSO\n",
      "Nhập dữ liệu tiếng Nhật partime online\n",
      "04/2022 - vẫn còn làm việc Công ty TNHH Rainscales Việt Nam\n",
      "Kiểm tra thông tin khách hàng Nhật\n",
      "CHỨNG CHỈ - BẰNG CẤP\n",
      "01/2021 Bằng năng lực Tiếng Anh B1\n",
      "03/2021 Bằng năng lực Tiếng Nhật B2CÁC KỸ NĂNG\n",
      "Tin học văn phòng Có kỹ năng cơ bản về Word, Excel, Power Point,...\n",
      "Ngôn ngữ Khả năng giao tiếp Tiếng Anh cơ bản hàng ngày\n",
      "SỞ THÍCH\n",
      "Du lịch, đọc sách, nghe nhạc\n",
      "© topcv.vnLê Thùy Dương\n",
      "Nhân viên văn phòng\n",
      "Ngày sinh: 29/11/1999\n",
      "Giới tính: Nữ\n",
      "Số điện thoại: 0707292696\n",
      "Email: ltduong2911@gmail.com\n",
      "Website: https://www.facebook.com/pro\u0000le.php?id=100007457820991\n",
      "Địa chỉ: Lô F8 Đức Bưu 6, Hương Sơ, Huế\n",
      "MỤC TIÊU NGHỀ NGHIỆP\n",
      "Áp dụng tất cả những kinh nghiệm, sự hiểu biết của bản thân để hoàn thành tốt công việc được giao và trở thành nhân viên tốt\n",
      "cho quý công ty. Em sẽ luôn có trách nhiệm, trung thực, nghiêm túc, làm việc đúng giờ, chăm chỉ trong công việc. Mặc dù chưa có\n",
      "nhiều kinh nghiệm trong lĩnh vực này nhưng em vẫn mong muốn thử sức và trải nghiệm để có thêm nhiều kinh nghiệm cho bản\n",
      "thân.\n",
      "HỌC VẤN\n",
      "09/2014 - 07/2017 Trường THPT Nguyễn Huệ, Huế\n",
      "Tốt nghiệp loại Khá\n",
      "09/2017 - 07/2021 Đại học Ngoại ngữ Huế\n",
      "Ngôn ngữ Nhật\n",
      "Tốt nghiệp loại Khá\n",
      "KINH NGHIỆM LÀM VIỆC\n",
      "07/2020 - 08/2020 Công ty du lịch Phong Lan\n",
      "Thực tập\n",
      "09/2021 - 12/2021 Công ty MATHPRESSO\n",
      "Nhập dữ liệu tiếng Nhật partime online\n",
      "04/2022 - vẫn còn làm việc Công ty TNHH Rainscales Việt Nam\n",
      "Kiểm tra thông tin khách hàng Nhật\n",
      "CHỨNG CHỈ - BẰNG CẤP\n",
      "01/2021 Bằng năng lực Tiếng Anh B1\n",
      "03/2021 Bằng năng lực Tiếng Nhật B2CÁC KỸ NĂNG\n",
      "Tin học văn phòng Có kỹ năng cơ bản về Word, Excel, Power Point,...\n",
      "Ngôn ngữ Khả năng giao tiếp Tiếng Anh cơ bản hàng ngày\n",
      "SỞ THÍCH\n",
      "Du lịch, đọc sách, nghe nhạc\n",
      "© topcv.vn\n"
     ]
    }
   ],
   "source": [
    "for page in pages:\n",
    "         text += page.extract_text(x_tolerance=2)\n",
    "         print(text)"
   ]
  },
  {
   "cell_type": "code",
   "execution_count": 7,
   "metadata": {},
   "outputs": [
    {
     "data": {
      "text/plain": [
       "'Lê Thùy Dương\\nNhân viên văn phòng\\nNgày sinh: 29/11/1999\\nGiới tính: Nữ\\nSố điện thoại: 0707292696\\nEmail: ltduong2911@gmail.com\\nWebsite: https://www.facebook.com/pro\\x00le.php?id=100007457820991\\nĐịa chỉ: Lô F8 Đức Bưu 6, Hương Sơ, Huế\\nMỤC TIÊU NGHỀ NGHIỆP\\nÁp dụng tất cả những kinh nghiệm, sự hiểu biết của bản thân để hoàn thành tốt công việc được giao và trở thành nhân viên tốt\\ncho quý công ty. Em sẽ luôn có trách nhiệm, trung thực, nghiêm túc, làm việc đúng giờ, chăm chỉ trong công việc. Mặc dù chưa có\\nnhiều kinh nghiệm trong lĩnh vực này nhưng em vẫn mong muốn thử sức và trải nghiệm để có thêm nhiều kinh nghiệm cho bản\\nthân.\\nHỌC VẤN\\n09/2014 - 07/2017 Trường THPT Nguyễn Huệ, Huế\\nTốt nghiệp loại Khá\\n09/2017 - 07/2021 Đại học Ngoại ngữ Huế\\nNgôn ngữ Nhật\\nTốt nghiệp loại Khá\\nKINH NGHIỆM LÀM VIỆC\\n07/2020 - 08/2020 Công ty du lịch Phong Lan\\nThực tập\\n09/2021 - 12/2021 Công ty MATHPRESSO\\nNhập dữ liệu tiếng Nhật partime online\\n04/2022 - vẫn còn làm việc Công ty TNHH Rainscales Việt Nam\\nKiểm tra thông tin khách hàng Nhật\\nCHỨNG CHỈ - BẰNG CẤP\\n01/2021 Bằng năng lực Tiếng Anh B1\\n03/2021 Bằng năng lực Tiếng Nhật B2CÁC KỸ NĂNG\\nTin học văn phòng Có kỹ năng cơ bản về Word, Excel, Power Point,...\\nNgôn ngữ Khả năng giao tiếp Tiếng Anh cơ bản hàng ngày\\nSỞ THÍCH\\nDu lịch, đọc sách, nghe nhạc\\n© topcv.vnLê Thùy Dương\\nNhân viên văn phòng\\nNgày sinh: 29/11/1999\\nGiới tính: Nữ\\nSố điện thoại: 0707292696\\nEmail: ltduong2911@gmail.com\\nWebsite: https://www.facebook.com/pro\\x00le.php?id=100007457820991\\nĐịa chỉ: Lô F8 Đức Bưu 6, Hương Sơ, Huế\\nMỤC TIÊU NGHỀ NGHIỆP\\nÁp dụng tất cả những kinh nghiệm, sự hiểu biết của bản thân để hoàn thành tốt công việc được giao và trở thành nhân viên tốt\\ncho quý công ty. Em sẽ luôn có trách nhiệm, trung thực, nghiêm túc, làm việc đúng giờ, chăm chỉ trong công việc. Mặc dù chưa có\\nnhiều kinh nghiệm trong lĩnh vực này nhưng em vẫn mong muốn thử sức và trải nghiệm để có thêm nhiều kinh nghiệm cho bản\\nthân.\\nHỌC VẤN\\n09/2014 - 07/2017 Trường THPT Nguyễn Huệ, Huế\\nTốt nghiệp loại Khá\\n09/2017 - 07/2021 Đại học Ngoại ngữ Huế\\nNgôn ngữ Nhật\\nTốt nghiệp loại Khá\\nKINH NGHIỆM LÀM VIỆC\\n07/2020 - 08/2020 Công ty du lịch Phong Lan\\nThực tập\\n09/2021 - 12/2021 Công ty MATHPRESSO\\nNhập dữ liệu tiếng Nhật partime online\\n04/2022 - vẫn còn làm việc Công ty TNHH Rainscales Việt Nam\\nKiểm tra thông tin khách hàng Nhật\\nCHỨNG CHỈ - BẰNG CẤP\\n01/2021 Bằng năng lực Tiếng Anh B1\\n03/2021 Bằng năng lực Tiếng Nhật B2CÁC KỸ NĂNG\\nTin học văn phòng Có kỹ năng cơ bản về Word, Excel, Power Point,...\\nNgôn ngữ Khả năng giao tiếp Tiếng Anh cơ bản hàng ngày\\nSỞ THÍCH\\nDu lịch, đọc sách, nghe nhạc\\n© topcv.vn'"
      ]
     },
     "execution_count": 7,
     "metadata": {},
     "output_type": "execute_result"
    }
   ],
   "source": [
    "text"
   ]
  },
  {
   "cell_type": "code",
   "execution_count": null,
   "metadata": {},
   "outputs": [],
   "source": []
  }
 ],
 "metadata": {
  "kernelspec": {
   "display_name": "talenthive",
   "language": "python",
   "name": "python3"
  },
  "language_info": {
   "codemirror_mode": {
    "name": "ipython",
    "version": 3
   },
   "file_extension": ".py",
   "mimetype": "text/x-python",
   "name": "python",
   "nbconvert_exporter": "python",
   "pygments_lexer": "ipython3",
   "version": "3.8.20"
  },
  "orig_nbformat": 4
 },
 "nbformat": 4,
 "nbformat_minor": 2
}
